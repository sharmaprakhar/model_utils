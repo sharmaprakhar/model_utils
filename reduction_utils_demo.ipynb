{
 "cells": [
  {
   "cell_type": "code",
   "execution_count": 1,
   "metadata": {},
   "outputs": [
    {
     "name": "stderr",
     "output_type": "stream",
     "text": [
      "Using TensorFlow backend.\n"
     ]
    }
   ],
   "source": [
    "import os\n",
    "os.environ[\"CUDA_DEVICE_ORDER\"]=\"PCI_BUS_ID\"\n",
    "# The GPU id to use\n",
    "os.environ[\"CUDA_VISIBLE_DEVICES\"]=\"3\"\n",
    "\n",
    "import h5py\n",
    "import time\n",
    "import numpy as np\n",
    "import argparse\n",
    "import keras\n",
    "import pandas as pd\n",
    "import keras.backend as K\n",
    "from keras.models import Model,model_from_json, load_model\n",
    "from keras.layers import Input, Dropout, Dense, Flatten, BatchNormalization\n",
    "from keras.layers.convolutional import Conv1D, MaxPooling1D"
   ]
  },
  {
   "cell_type": "code",
   "execution_count": 2,
   "metadata": {},
   "outputs": [
    {
     "name": "stdout",
     "output_type": "stream",
     "text": [
      "(16642, 44100)\n"
     ]
    }
   ],
   "source": [
    "from sklearn.model_selection import train_test_split\n",
    "#load dataset\n",
    "file = '/hdd2/datasets/ESC50/output.h5'\n",
    "f = h5py.File(file, 'r')\n",
    "\n",
    "data = f.get('audioFrames')\n",
    "data = np.array(data)\n",
    "data = data.T\n",
    "print(data.shape)\n",
    "#labels = pd.read_hdf(file,'info').Label\n",
    "#data = data.reshape(16642,44100,1)\n",
    "\n",
    "\n",
    "df = pd.read_hdf('/hdd2/datasets/ESC50/output.h5','info')\n",
    "labels = df['Label'].values\n",
    "X_train, X_test, train_labels, test_labels, idx_train,idx_test = train_test_split(f['audioFrames'][()].T, labels,np.arange(len(labels)), test_size=0.20,random_state=42)\n",
    "X = X_test.reshape(3329,44100,1)\n",
    "y = keras.utils.np_utils.to_categorical(test_labels, num_classes=50)"
   ]
  },
  {
   "cell_type": "code",
   "execution_count": 3,
   "metadata": {
    "collapsed": true
   },
   "outputs": [],
   "source": [
    "file = 'ESC50_best_model_41.h5'\n",
    "model = load_model(file)\n",
    "model_json = model.to_json()\n",
    "with open(\"ESC50_best_model_41.json\", \"w\") as json_file:\n",
    "    json_file.write(model_json)\n",
    "#model.summary()"
   ]
  },
  {
   "cell_type": "code",
   "execution_count": 4,
   "metadata": {
    "collapsed": true
   },
   "outputs": [],
   "source": [
    "#original eval accuracy - double precision weights\n",
    "#model.summary()\n",
    "# model.compile(loss='categorical_crossentropy', optimizer=keras.optimizers.adadelta(lr=0.08, rho=0.95,decay=0.0001), metrics=['accuracy'])\n",
    "# scores = model.evaluate(X, y, batch_size=32, verbose=1)\n",
    "# print(\"%s: %.2f%%\" % (model.metrics_names[1], scores[1]*100))"
   ]
  },
  {
   "cell_type": "code",
   "execution_count": 63,
   "metadata": {},
   "outputs": [
    {
     "name": "stdout",
     "output_type": "stream",
     "text": [
      "                 precision    recall  f1-score   support\n",
      "\n",
      "            Dog       0.70      0.83      0.76        60\n",
      "        Rooster       0.67      0.30      0.41        54\n",
      "            Pig       0.95      0.75      0.84        75\n",
      "            Cow       0.78      0.52      0.62        54\n",
      "           Frog       0.89      0.68      0.77        75\n",
      "            Cat       0.59      0.42      0.49        72\n",
      "            Hen       0.66      0.64      0.65        59\n",
      "        Insects       0.45      0.35      0.39        78\n",
      "          Sheep       0.86      0.23      0.37        82\n",
      "           Crow       0.80      0.51      0.63        72\n",
      "           Rain       0.49      0.79      0.60        78\n",
      "      Sea waves       0.64      0.18      0.28        79\n",
      " Crackling fire       0.07      0.92      0.13        60\n",
      "       Crickets       0.16      0.31      0.21        87\n",
      " Chirping birds       0.44      0.25      0.32        67\n",
      "    Water drops       0.38      0.33      0.35        58\n",
      "           Wind       0.77      0.48      0.59        75\n",
      "  Pouring water       0.45      0.62      0.52        65\n",
      "   Toilet flush       0.91      0.65      0.76        75\n",
      "   Thunderstorm       0.51      0.41      0.45        61\n",
      "    Crying baby       0.66      0.71      0.69        84\n",
      "       Sneezing       0.33      0.46      0.39        35\n",
      "       Clapping       0.89      0.75      0.81        72\n",
      "      Breathing       0.76      0.24      0.36        55\n",
      "       Coughing       0.91      0.44      0.60        45\n",
      "      Footsteps       0.60      0.57      0.59        63\n",
      "       Laughing       0.89      0.31      0.47        54\n",
      " Brushing teeth       0.72      0.55      0.62        78\n",
      "        Snoring       0.29      0.14      0.19        76\n",
      "       Drinking       0.32      0.32      0.32        53\n",
      "     Door knock       0.86      0.49      0.62        51\n",
      "    Mouse click       0.22      0.20      0.21        51\n",
      "Keyboard typing       0.70      0.38      0.49        69\n",
      "           Door       0.71      0.14      0.24        71\n",
      "    Can opening       0.16      0.33      0.21        46\n",
      "Washing machine       0.61      0.34      0.44        73\n",
      " Vacuum cleaner       0.78      0.59      0.67        68\n",
      "    Clock alarm       0.95      0.56      0.71        75\n",
      "     Clock tick       0.85      0.44      0.58        64\n",
      " Glass breaking       0.39      0.49      0.43        37\n",
      "     Helicopter       0.53      0.65      0.58        68\n",
      "       Chainsaw       0.90      0.50      0.64        72\n",
      "          Siren       0.88      0.68      0.76        74\n",
      "       Car horn       0.62      0.25      0.35        53\n",
      "         Engine       0.71      0.50      0.59        78\n",
      "          Train       0.76      0.46      0.58        84\n",
      "   Church bells       0.68      0.79      0.73        67\n",
      "       Airplane       0.59      0.33      0.43        78\n",
      "      Fireworks       0.78      0.41      0.54        70\n",
      "       Hand saw       0.97      0.84      0.90        79\n",
      "\n",
      "    avg / total       0.66      0.49      0.53      3329\n",
      "\n"
     ]
    }
   ],
   "source": [
    "from sklearn.metrics import confusion_matrix,classification_report, f1_score, accuracy_score\n",
    "class_names = ('Dog', 'Rooster', 'Pig', 'Cow', 'Frog', 'Cat', 'Hen', 'Insects', 'Sheep', 'Crow', 'Rain', \n",
    "\t    'Sea waves', 'Crackling fire', 'Crickets', 'Chirping birds', 'Water drops', 'Wind', 'Pouring water', \n",
    "\t    'Toilet flush', 'Thunderstorm', 'Crying baby', 'Sneezing', 'Clapping', 'Breathing', \n",
    "\t    'Coughing', 'Footsteps', 'Laughing', 'Brushing teeth', 'Snoring', 'Drinking', \n",
    "\t    'Door knock', 'Mouse click', 'Keyboard typing', 'Door', 'Can opening', \n",
    "\t    'Washing machine', 'Vacuum cleaner', 'Clock alarm', 'Clock tick', 'Glass breaking', 'Helicopter', \n",
    "\t    'Chainsaw', 'Siren', 'Car horn', 'Engine', 'Train', 'Church bells', 'Airplane', 'Fireworks', 'Hand saw')\n",
    "y_probabilities = model.predict(X)\n",
    "predicted_labels = y_probabilities.argmax(axis=1)\n",
    "#print('BCE accuracy: {:04.2f}'.format(accuracy_score(test_labels, predicted_labels)))\n",
    "#print(confusion_matrix(test_labels,predicted_labels))\n",
    "print(classification_report(test_labels, predicted_labels, target_names=class_names))"
   ]
  },
  {
   "cell_type": "code",
   "execution_count": 6,
   "metadata": {},
   "outputs": [
    {
     "name": "stdout",
     "output_type": "stream",
     "text": [
      "[0.7, 0.67, 0.95, 0.78, 0.89, 0.59, 0.66, 0.45, 0.86, 0.8, 0.49, 0.64, 0.07, 0.16, 0.44, 0.38, 0.77, 0.45, 0.91, 0.51, 0.66, 0.33, 0.89, 0.76, 0.91, 0.6, 0.89, 0.72, 0.29, 0.32, 0.86, 0.22, 0.7, 0.71, 0.16, 0.61, 0.78, 0.95, 0.85, 0.39, 0.53, 0.9, 0.88, 0.62, 0.71, 0.76, 0.68, 0.59, 0.78, 0.97, 0.66]\n"
     ]
    }
   ],
   "source": [
    "from collections import defaultdict\n",
    "\n",
    "def report2dict(cr):\n",
    "    # Parse rows\n",
    "    tmp = list()\n",
    "    for row in cr.split(\"\\n\"):\n",
    "        parsed_row = [x for x in row.split(\"  \") if len(x) > 0]\n",
    "        if len(parsed_row) > 0:\n",
    "            tmp.append(parsed_row)\n",
    "    \n",
    "    # Store in dictionary\n",
    "    measures = tmp[0]\n",
    "\n",
    "    D_class_data = defaultdict(dict)\n",
    "    for row in tmp[1:]:\n",
    "        class_label = row[0]\n",
    "        for j, m in enumerate(measures):\n",
    "            D_class_data[class_label][m.strip()] = float(row[j + 1].strip())\n",
    "    return D_class_data\n",
    "metrics_dict = report2dict(classification_report(test_labels, predicted_labels, target_names=class_names))\n",
    "precision_list_orig = []\n",
    "f1_list_orig = []\n",
    "for k,v in metrics_dict.items():\n",
    "    for m,val in v.items():\n",
    "        if m == 'f1-score':\n",
    "            f1_list_orig.append(val)\n",
    "        if m == 'precision':\n",
    "            precision_list_orig.append(val)\n",
    "print(precision_list_orig)"
   ]
  },
  {
   "cell_type": "markdown",
   "metadata": {},
   "source": [
    "# visualize the rank of weight matrices"
   ]
  },
  {
   "cell_type": "code",
   "execution_count": 7,
   "metadata": {},
   "outputs": [
    {
     "name": "stdout",
     "output_type": "stream",
     "text": [
      "full rank of all matrices [64, 64, 64, 128, 128, 128, 256]\n",
      "rank list [5, 64, 64, 128, 128, 128, 256]\n"
     ]
    },
    {
     "data": {
      "image/png": "[encoded data removed]",
      "text/plain": [
       "<Figure size 432x288 with 1 Axes>"
      ]
     },
     "metadata": {},
     "output_type": "display_data"
    }
   ],
   "source": [
    "from reduction_utils import *\n",
    "import matplotlib\n",
    "import matplotlib.pyplot as plt\n",
    "%matplotlib inline\n",
    "\n",
    "layers_list = ['conv1d_1', 'conv1d_2', 'conv1d_3', 'conv1d_4', 'conv1d_5', 'conv1d_6', 'conv1d_7', 'conv1d_8']\n",
    "rank_list = []\n",
    "full_rank_list = []\n",
    "for idx,lay in enumerate(layers_list):\n",
    "    if lay is not layers_list[-1]:\n",
    "        op_layer = layers_list[idx]\n",
    "        next_layer = layers_list[idx+1]\n",
    "        weights_pack = extract_current_and_next_weights(model, op_layer, next_layer)\n",
    "        wts, biases, next_wts, next_biases = weights_pack\n",
    "        full_rank_list.append(wts.shape[2])\n",
    "        wts = np.moveaxis(wts, 2, 0)\n",
    "        wts = wts.reshape(wts.shape[0], -1)\n",
    "        rank_list.append(np.linalg.matrix_rank(wts))\n",
    "        \n",
    "print(\"full rank of all matrices\", full_rank_list)\n",
    "print(\"rank list\", rank_list)\n",
    "plt.plot(range(len(full_rank_list)), full_rank_list, label = 'full rank')\n",
    "plt.plot(range(len(full_rank_list)), rank_list, label = 'rank')\n",
    "plt.legend(loc='upper left')\n",
    "plt.show()"
   ]
  },
  {
   "cell_type": "markdown",
   "metadata": {},
   "source": [
    "# Extract weights and make similarity matrix"
   ]
  },
  {
   "cell_type": "code",
   "execution_count": 65,
   "metadata": {},
   "outputs": [
    {
     "name": "stdout",
     "output_type": "stream",
     "text": [
      "(5, 128, 256) (256,) (5, 256, 266)\n",
      "256\n"
     ]
    },
    {
     "data": {
      "text/plain": [
       "<matplotlib.image.AxesImage at 0x7fa2e7e945c0>"
      ]
     },
     "execution_count": 65,
     "metadata": {},
     "output_type": "execute_result"
    },
    {
     "data": {
      "image/png": "[encoded data removed]",
      "text/plain": [
       "<Figure size 432x288 with 1 Axes>"
      ]
     },
     "metadata": {},
     "output_type": "display_data"
    }
   ],
   "source": [
    "from reduction_utils import *\n",
    "op_layer = 'conv1d_7'\n",
    "next_layer = 'conv1d_8'\n",
    "\n",
    "weights_pack = extract_current_and_next_weights(model, op_layer, next_layer)\n",
    "wts, biases, next_wts, next_biases = weights_pack\n",
    "print(wts.shape, biases.shape, next_wts.shape)\n",
    "\n",
    "simil_thresh = 0.8\n",
    "cc_list, adj_mat = get_conn_comp_direct(wts, simil_thresh)\n",
    "print(len(cc_list))\n",
    "plt.imshow(adj_mat)"
   ]
  },
  {
   "cell_type": "markdown",
   "metadata": {},
   "source": [
    "# modify arch and reduce layer"
   ]
  },
  {
   "cell_type": "code",
   "execution_count": 52,
   "metadata": {},
   "outputs": [
    {
     "name": "stdout",
     "output_type": "stream",
     "text": [
      "(5, 128, 256)\n",
      "(256, 5, 128)\n"
     ]
    }
   ],
   "source": [
    "print(wts.shape)\n",
    "wts = np.moveaxis(wts, 2, 0)\n",
    "print(wts.shape)"
   ]
  },
  {
   "cell_type": "code",
   "execution_count": 53,
   "metadata": {},
   "outputs": [
    {
     "name": "stdout",
     "output_type": "stream",
     "text": [
      "(256, 640)\n",
      "256\n",
      "(256, 5, 128)\n",
      "(5, 256, 266)\n"
     ]
    }
   ],
   "source": [
    "#caveat - moveaxis on wts\n",
    "\n",
    "scaled_pack = scale_layers(wts, biases, next_wts)\n",
    "wts_norm, b_norm, layer_next_scaled = scaled_pack\n",
    "print(wts_norm.shape)\n",
    "print(np.linalg.matrix_rank(wts_norm))\n",
    "#if len(wts_norm.shape)<3:\n",
    "    #layer_curr_weights = np.atleast_3d(wts_norm)\n",
    "layer_curr_weights = wts_norm.reshape(wts.shape)\n",
    "print(layer_curr_weights.shape)\n",
    "print(layer_next_scaled.shape)"
   ]
  },
  {
   "cell_type": "code",
   "execution_count": 54,
   "metadata": {},
   "outputs": [
    {
     "name": "stdout",
     "output_type": "stream",
     "text": [
      "new weight filter shape (242, 5, 128)\n",
      "new bias shape (242,)\n",
      "new next layer activations shape (242, 5, 266)\n",
      "(242, 5, 128) (242,) (242, 5, 266)\n"
     ]
    }
   ],
   "source": [
    "reduced_pack = reduce_layers(layer_curr_weights, b_norm, layer_next_scaled, cc_list)\n",
    "new_weights, new_biases, new_next_layer_weights = reduced_pack\n",
    "print(new_weights.shape, new_biases.shape, new_next_layer_weights.shape)"
   ]
  },
  {
   "cell_type": "markdown",
   "metadata": {},
   "source": [
    "# Altering model JSON"
   ]
  },
  {
   "cell_type": "code",
   "execution_count": 55,
   "metadata": {},
   "outputs": [
    {
     "name": "stdout",
     "output_type": "stream",
     "text": [
      "modified_conv1d_7_ESC50_best_model_41.json\n"
     ]
    }
   ],
   "source": [
    "json_file = 'ESC50_best_model_41.json'\n",
    "current_layer = op_layer\n",
    "#next_layer = 'conv1d_2'\n",
    "reduced_filters  = new_weights.shape[0]\n",
    "new_json = modify_json(json_file, current_layer, next_layer, reduced_filters)\n",
    "print(new_json)"
   ]
  },
  {
   "cell_type": "markdown",
   "metadata": {},
   "source": [
    "# reducing h5 file !!\n"
   ]
  },
  {
   "cell_type": "code",
   "execution_count": 56,
   "metadata": {},
   "outputs": [
    {
     "name": "stdout",
     "output_type": "stream",
     "text": [
      "before reshape (242, 5, 128)\n",
      "after reshape (5, 128, 242)\n",
      "(5, 242, 266)\n",
      "changing batchnorm for layer -->  7\n",
      "changing batchnorm layers to size (242,)\n",
      "modifying beta\n",
      "modifying gamma\n",
      "modifying moving_mean\n",
      "modifying moving_variance\n"
     ]
    }
   ],
   "source": [
    "model_params_file = \"ESC50_best_model_41_copy.h5\"\n",
    "print('before reshape', new_weights.shape)\n",
    "new_weights_reshaped = np.moveaxis(new_weights, 0, 2)\n",
    "#new_weights_reshaped = np.moveaxis(new_weights_reshaped, 0, 1)\n",
    "new_next_layer_weights_reshaped = np.moveaxis(new_next_layer_weights, 0, 1)\n",
    "\n",
    "print('after reshape', new_weights_reshaped.shape)64, 64, 64, 128, 128, 128, 256\n",
    "print(new_next_layer_weights_reshaped.shape)\n",
    "\n",
    "modify_model_params(model_params_file, current_layer, next_layer, new_weights_reshaped, new_biases, new_next_layer_weights_reshaped, 0)"
   ]
  },
  {
   "cell_type": "markdown",
   "metadata": {},
   "source": [
    "# double check new weight shapes"
   ]
  },
  {
   "cell_type": "code",
   "execution_count": 57,
   "metadata": {},
   "outputs": [
    {
     "name": "stdout",
     "output_type": "stream",
     "text": [
      "64\n",
      "new conv1 shape (5, 1, 64)\n",
      "new conv2 shape (5, 64, 64)\n",
      "new conv3 shape (5, 64, 64)\n"
     ]
    }
   ],
   "source": [
    "# import h5py\n",
    "# f1 = h5py.File(model_params_file, 'r')\n",
    "# print(len(list(f1['model_weights/batch_normalization_1/batch_normalization_1/beta:0'])))\n",
    "# print(\"new conv1 shape\",np.asarray(f1['model_weights/conv1d_1/conv1d_1/kernel:0']).shape)\n",
    "# print(\"new conv2 shape\",np.asarray(f1['model_weights/conv1d_2/conv1d_2/kernel:0']).shape)\n",
    "# print(\"new conv3 shape\",np.asarray(f1['model_weights/conv1d_3/conv1d_3/kernel:0']).shape)"
   ]
  },
  {
   "cell_type": "markdown",
   "metadata": {},
   "source": [
    "# Model eval - change layer names above to eval for different layer reductions"
   ]
  },
  {
   "cell_type": "code",
   "execution_count": 58,
   "metadata": {},
   "outputs": [
    {
     "name": "stdout",
     "output_type": "stream",
     "text": [
      "Loaded modified model from disk\n"
     ]
    }
   ],
   "source": [
    "#load modified model from json\n",
    "json_file = open(new_json, 'r')\n",
    "loaded_model_json = json_file.read()\n",
    "json_file.close()\n",
    "modified_net = model_from_json(loaded_model_json)\n",
    "#modified_net.summary()\n",
    "#load weights into model\n",
    "modified_net.load_weights(model_params_file)\n",
    "print(\"Loaded modified model from disk\")\n",
    "#modified_net.summary()"
   ]
  },
  {
   "cell_type": "code",
   "execution_count": 59,
   "metadata": {},
   "outputs": [
    {
     "name": "stdout",
     "output_type": "stream",
     "text": [
      "3329/3329 [==============================] - 3s 807us/step\n",
      "acc: 18.11%\n"
     ]
    }
   ],
   "source": [
    "modified_net.compile(loss='categorical_crossentropy', optimizer=keras.optimizers.adadelta(lr=0.08, rho=0.95,decay=0.0001), metrics=['accuracy'])\n",
    "scores = modified_net.evaluate(X, y, batch_size=256, verbose=1)\n",
    "print(\"%s: %.2f%%\" % (modified_net.metrics_names[1], scores[1]*100))"
   ]
  },
  {
   "cell_type": "code",
   "execution_count": 60,
   "metadata": {},
   "outputs": [
    {
     "name": "stdout",
     "output_type": "stream",
     "text": [
      "BCE accuracy: 0.18\n",
      "                 precision    recall  f1-score   support\n",
      "\n",
      "            Dog       1.00      0.28      0.44        60\n",
      "        Rooster       1.00      0.02      0.04        54\n",
      "            Pig       1.00      0.20      0.33        75\n",
      "            Cow       1.00      0.19      0.31        54\n",
      "           Frog       0.89      0.21      0.34        75\n",
      "            Cat       0.44      0.11      0.18        72\n",
      "            Hen       0.73      0.32      0.45        59\n",
      "        Insects       0.00      0.00      0.00        78\n",
      "          Sheep       0.67      0.02      0.05        82\n",
      "           Crow       1.00      0.18      0.31        72\n",
      "           Rain       0.36      0.44      0.40        78\n",
      "      Sea waves       1.00      0.01      0.02        79\n",
      " Crackling fire       0.00      0.00      0.00        60\n",
      "       Crickets       0.13      0.41      0.20        87\n",
      " Chirping birds       0.00      0.00      0.00        67\n",
      "    Water drops       1.00      0.02      0.03        58\n",
      "           Wind       0.37      0.09      0.15        75\n",
      "  Pouring water       0.40      0.03      0.06        65\n",
      "   Toilet flush       1.00      0.05      0.10        75\n",
      "   Thunderstorm       0.00      0.00      0.00        61\n",
      "    Crying baby       0.00      0.00      0.00        84\n",
      "       Sneezing       0.00      0.00      0.00        35\n",
      "       Clapping       0.97      0.53      0.68        72\n",
      "      Breathing       1.00      0.05      0.10        55\n",
      "       Coughing       0.36      0.09      0.14        45\n",
      "      Footsteps       0.40      0.13      0.19        63\n",
      "       Laughing       0.13      0.39      0.19        54\n",
      " Brushing teeth       0.12      0.37      0.18        78\n",
      "        Snoring       0.00      0.00      0.00        76\n",
      "       Drinking       0.33      0.02      0.04        53\n",
      "     Door knock       0.45      0.41      0.43        51\n",
      "    Mouse click       0.00      0.00      0.00        51\n",
      "Keyboard typing       0.29      0.23      0.26        69\n",
      "           Door       1.00      0.04      0.08        71\n",
      "    Can opening       0.00      0.00      0.00        46\n",
      "Washing machine       0.09      0.59      0.16        73\n",
      " Vacuum cleaner       0.00      0.00      0.00        68\n",
      "    Clock alarm       1.00      0.16      0.28        75\n",
      "     Clock tick       0.57      0.12      0.21        64\n",
      " Glass breaking       1.00      0.14      0.24        37\n",
      "     Helicopter       0.05      0.88      0.09        68\n",
      "       Chainsaw       1.00      0.01      0.03        72\n",
      "          Siren       0.36      0.28      0.32        74\n",
      "       Car horn       0.60      0.06      0.10        53\n",
      "         Engine       0.19      0.76      0.30        78\n",
      "          Train       0.42      0.23      0.29        84\n",
      "   Church bells       0.65      0.33      0.44        67\n",
      "       Airplane       0.00      0.00      0.00        78\n",
      "      Fireworks       0.29      0.03      0.05        70\n",
      "       Hand saw       1.00      0.23      0.37        79\n",
      "\n",
      "    avg / total       0.48      0.18      0.17      3329\n",
      "\n"
     ]
    },
    {
     "name": "stderr",
     "output_type": "stream",
     "text": [
      "/opt/anaconda/anaconda3/lib/python3.6/site-packages/sklearn/metrics/classification.py:1135: UndefinedMetricWarning: Precision and F-score are ill-defined and being set to 0.0 in labels with no predicted samples.\n",
      "  'precision', 'predicted', average, warn_for)\n"
     ]
    }
   ],
   "source": [
    "from sklearn.metrics import confusion_matrix,classification_report, f1_score, accuracy_score\n",
    "class_names = ('Dog', 'Rooster', 'Pig', 'Cow', 'Frog', 'Cat', 'Hen', 'Insects', 'Sheep', 'Crow', 'Rain', \n",
    "\t    'Sea waves', 'Crackling fire', 'Crickets', 'Chirping birds', 'Water drops', 'Wind', 'Pouring water', \n",
    "\t    'Toilet flush', 'Thunderstorm', 'Crying baby', 'Sneezing', 'Clapping', 'Breathing', \n",
    "\t    'Coughing', 'Footsteps', 'Laughing', 'Brushing teeth', 'Snoring', 'Drinking', \n",
    "\t    'Door knock', 'Mouse click', 'Keyboard typing', 'Door', 'Can opening', \n",
    "\t    'Washing machine', 'Vacuum cleaner', 'Clock alarm', 'Clock tick', 'Glass breaking', 'Helicopter', \n",
    "\t    'Chainsaw', 'Siren', 'Car horn', 'Engine', 'Train', 'Church bells', 'Airplane', 'Fireworks', 'Hand saw')\n",
    "y_probabilities = modified_net.predict(X)\n",
    "predicted_labels = y_probabilities.argmax(axis=1)\n",
    "#print('BCE accuracy: {:04.2f}'.format(accuracy_score(test_labels, predicted_labels)))\n",
    "#print(confusion_matrix(test_labels,predicted_labels))\n",
    "print(classification_report(test_labels, predicted_labels, target_names=class_names))"
   ]
  },
  {
   "cell_type": "code",
   "execution_count": 61,
   "metadata": {},
   "outputs": [
    {
     "name": "stdout",
     "output_type": "stream",
     "text": [
      "[0.44, 0.04, 0.33, 0.31, 0.34, 0.18, 0.45, 0.0, 0.05, 0.31, 0.4, 0.02, 0.0, 0.2, 0.0, 0.03, 0.15, 0.06, 0.1, 0.0, 0.0, 0.0, 0.68, 0.1, 0.14, 0.19, 0.19, 0.18, 0.0, 0.04, 0.43, 0.0, 0.26, 0.08, 0.0, 0.16, 0.0, 0.28, 0.21, 0.24, 0.09, 0.03, 0.32, 0.1, 0.3, 0.29, 0.44, 0.0, 0.05, 0.37, 0.17]\n"
     ]
    },
    {
     "name": "stderr",
     "output_type": "stream",
     "text": [
      "/opt/anaconda/anaconda3/lib/python3.6/site-packages/sklearn/metrics/classification.py:1135: UndefinedMetricWarning: Precision and F-score are ill-defined and being set to 0.0 in labels with no predicted samples.\n",
      "  'precision', 'predicted', average, warn_for)\n"
     ]
    }
   ],
   "source": [
    "from collections import defaultdict\n",
    "\n",
    "def report2dict(cr):\n",
    "    # Parse rows\n",
    "    tmp = list()\n",
    "    for row in cr.split(\"\\n\"):\n",
    "        parsed_row = [x for x in row.split(\"  \") if len(x) > 0]\n",
    "        if len(parsed_row) > 0:\n",
    "            tmp.append(parsed_row)\n",
    "    \n",
    "    # Store in dictionary\n",
    "    measures = tmp[0]\n",
    "\n",
    "    D_class_data = defaultdict(dict)\n",
    "    for row in tmp[1:]:\n",
    "        class_label = row[0]\n",
    "        for j, m in enumerate(measures):\n",
    "            D_class_data[class_label][m.strip()] = float(row[j + 1].strip())\n",
    "    return D_class_data\n",
    "metrics_dict_mod = report2dict(classification_report(test_labels, predicted_labels, target_names=class_names))\n",
    "precision_list_mod = []\n",
    "f1_list_mod = []\n",
    "for k,v in metrics_dict_mod.items():\n",
    "    for m,val in v.items():\n",
    "        if m == 'f1-score':\n",
    "            f1_list_mod.append(val)\n",
    "        if m == 'precision':\n",
    "            precision_list_mod.append(val)\n",
    "            \n",
    "print(f1_list_mod)"
   ]
  },
  {
   "cell_type": "code",
   "execution_count": 62,
   "metadata": {
    "scrolled": true
   },
   "outputs": [
    {
     "name": "stdout",
     "output_type": "stream",
     "text": [
      "1\n",
      "23\n"
     ]
    },
    {
     "data": {
      "image/png": "[encoded data removed]",
      "text/plain": [
       "<Figure size 432x288 with 1 Axes>"
      ]
     },
     "metadata": {},
     "output_type": "display_data"
    }
   ],
   "source": [
    "import matplotlib\n",
    "import matplotlib.pyplot as plt\n",
    "\n",
    "change_list_f1 = [x[1]-x[0] for x in zip(f1_list_orig, f1_list_mod)]\n",
    "change_list_precision = [x[1]-x[0] for x in zip(precision_list_orig, precision_list_mod)]\n",
    "prepos = 0\n",
    "f1pos = 0\n",
    "for elem in change_list_f1:\n",
    "    if elem > -.1:\n",
    "        f1pos += 1\n",
    "print(f1pos)\n",
    "\n",
    "for elem in change_list_precision:\n",
    "    if elem > -.1:\n",
    "        prepos += 1\n",
    "print(prepos)\n",
    "\n",
    "%matplotlib inline\n",
    "plt.plot(range(len(change_list_precision)), change_list_precision, linestyle='--')\n",
    "# plt.plot(range(len(precision_list_orig)), precision_list_orig, linestyle='--', label='org')\n",
    "# plt.legend(loc='upper right')\n",
    "# plt.plot(range(len(precision_list_mod)), precision_list_mod, linestyle='--', label='mod')\n",
    "# plt.legend(loc='upper right')\n",
    "plt.grid(True)\n",
    "plt.show()"
   ]
  }
 ],
 "metadata": {
  "kernelspec": {
   "display_name": "Python [default]",
   "language": "python",
   "name": "python3"
  },
  "language_info": {
   "codemirror_mode": {
    "name": "ipython",
    "version": 3
   },
   "file_extension": ".py",
   "mimetype": "text/x-python",
   "name": "python",
   "nbconvert_exporter": "python",
   "pygments_lexer": "ipython3",
   "version": "3.6.1"
  }
 },
 "nbformat": 4,
 "nbformat_minor": 2
}
